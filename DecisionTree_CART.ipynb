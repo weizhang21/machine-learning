{
 "cells": [
  {
   "cell_type": "markdown",
   "metadata": {},
   "source": [
    "# 分类与回归树（CART）"
   ]
  },
  {
   "cell_type": "markdown",
   "metadata": {},
   "source": [
    "CART是在给定输入随机变量X条件下输出随即变量Y的条件概率分布的学习方法。CART假设决策树是二叉树，内部节点特征的取值为“是”和“否”，左右两个分支分别是不同取值的分支，比如左分支代表“是”，右分支代表“否”。这样的决策树等价于递归地二分每个特征，将输入空间即特征空间划分为有限个单元，并在这学单元上确定预测的概率分布，也就是在输入给定的条件下输出的条件概率分布。  \n",
    "\n",
    "CART算法由两步组成：\n",
    "* 决策树生产：基于训练数据集生成决策树，生成的决策树要尽量大；\n",
    "* 决策树剪枝：用验证数据集对已生成的数进行剪枝并选择最优子树，这时用损失函数最小作为剪枝的标准。"
   ]
  },
  {
   "cell_type": "markdown",
   "metadata": {},
   "source": [
    "### 分类树的生成"
   ]
  },
  {
   "cell_type": "markdown",
   "metadata": {},
   "source": [
    "#### 基尼指数 "
   ]
  },
  {
   "cell_type": "markdown",
   "metadata": {},
   "source": [
    "分类问题中，假设有K个类，样本点属于第k类的概率为 $p_k$，则概率分布的基尼指数定义为\n",
    "$$ Gini(p) = \\sum_{k=1}^K p_k(1-p_k) =1 - \\sum_{k=1}^K p_k^2 $$ \n",
    "\n",
    "对于给定的样本集合D，其基尼指数为\n",
    "$$  Gini(p) = 1 - \\sum_{k=1}^K (\\frac{|C_k|}{|D|})^2$$\n",
    "其中$C_k$是D中属于第k类的样本子集（个数），K是类的个数。\n",
    "\n",
    "如果样本集合D根据特征A是否取某一可能值a被分割成$D_1,D_2$两部分，则在特征A的条件下，集合D的基尼指数定义为\n",
    "$$ Gini(D,A) = \\frac{|D_1|}{|D|}Gini(D_1) +  \\frac{|D_2|}{|D|}Gini(D_2)$$  \n",
    "\n",
    "基尼指数Gini(D)表示集合D的不确定性，基尼指数Gini(D,A)表示经A=a分割后集合D的不确定性。基尼指数越大，样本集合的不确定性也就越大，这一点与熵相似。"
   ]
  },
  {
   "cell_type": "markdown",
   "metadata": {},
   "source": [
    "#### CART生成算法"
   ]
  },
  {
   "cell_type": "markdown",
   "metadata": {},
   "source": [
    "输入：训练数据集D  \n",
    "输出：CART决策树  \n",
    "根据训练数据集，从根结点开始，递归地对每个结点进行一下操作，构建二叉决策树：  \n",
    "\n",
    "（1）设结点的训练数据集为D，计算现有特征对数据集的基尼指数Gini(D)。此时，对每一个特征A，对其可能取的每个值a，根据样本带你A=a的测试为“是”或“否”将D分割成D1和D2两部分，计算A=a划分后的基尼指数，即Gini(D,A)。  \n",
    "\n",
    "（2）在所有可能的特征A以及他们所有可能的切分点a中，选择基尼指数最小的特征及其对应的切分点作为最优特征与最优切分点。依最优特征与最优切分点，从现结点生成两个子节点，将训练数据集特征一次分配到两个子结点中去。\n",
    "\n",
    "（3）对两个子结点递归调用（1），（2），直至满足停止条件。\n",
    "（4）生成CART树。\n",
    "\n",
    "算法停止计算的条件是结点中的样本数小于预订阈值，或样本集的基尼指数小于预订值（样本基本属于同一类），或者没有更多特征。\n"
   ]
  },
  {
   "cell_type": "markdown",
   "metadata": {},
   "source": [
    "在下面的代码中加入了两个额外停止条件：一是树的高度是否达到了设定的阈值，二是每次划分后基尼指数是否会有足够的减小（之差大于设定的阈值）"
   ]
  },
  {
   "cell_type": "markdown",
   "metadata": {},
   "source": [
    "#### CART剪枝"
   ]
  },
  {
   "cell_type": "markdown",
   "metadata": {},
   "source": [
    "CART剪枝算法从“完全生长”的决策树的低端减去一些子树，使决策树变小（模型变简单），从而能够对未知数据有更准确的预测。CART剪枝算法由两步组成：首先从生成算法产生的决策树$T_0$低端开始剪枝，直到$T_0$的根节点，形成一个子树序列{$T_0,T_1,...,T_n$}；然后通过交叉验证法在独立的验证集上对子树序列进行预测，从中选择最优子树。  \n",
    "\n",
    "在剪枝过程中，计算子树的损失函数：$$ C_{\\alpha}(T) = C(T) + \\alpha|T| $$  \n",
    "其中，T为任意子树，C(T)为对训练数据集的预测误差（如基尼指数），|T|为子树的**叶结点**个数，$\\alpha \\ge 0$ 为参数，$C_{\\alpha}(T)$为参数α时子树T的整体损失，参数α权衡数据的拟合程度与模型的复杂度。  \n",
    "\n",
    "对固定的α，一定存在使损失函数$C_{\\alpha}(T)$最小的子树，表示为$T_\\alpha$。$T_\\alpha$在损失函数$C_{\\alpha}(T)$最小的意义下是最优的。"
   ]
  },
  {
   "cell_type": "markdown",
   "metadata": {},
   "source": [
    "具体地，从整体数$T_0$开始剪枝。对$T_0$的任意内部节点t，以t为单节点数的损失函数为 $$ C_{\\alpha}(T) = C(T) + \\alpha $$  \n",
    "以t为根结点的子树$T_t$的损失函数是$$ C_{\\alpha}(T_t) = C(T_t) + \\alpha|T_t| $$  \n",
    "\n",
    "当 α=0及α充分小时，有不等式 $$ C_{\\alpha}(T_t) < C_\\alpha(t) $$\n",
    "当α增大时，在某一α有 $$ C_{\\alpha}(T_t) = C_\\alpha(t) $$  \n",
    "\n",
    "当α再增大时，上面的不等式反向，只要 $ \\alpha = \\frac{C(t) - C(T_t)}{|T_t|-1}$，$T_t$与t有相同的损失函数值，而t的节点少，因此t比$T_t$更可取，对$T_t$进行剪枝。\n",
    "\n",
    "为此，对$T_0$中每一内部节点t计算 $$ g(t) = \\frac{C(t) - C(T_t)}{|T_t|-1} $$\n",
    "它表示剪枝后整体损失函数的减少程度。在$T_0$中减去g(t)最小的$T_t$，将得到的子树作 $T_1$，同时将最小的g(t)设为 $\\alpha_1$。$T_1$为区间[$\\alpha_1,\\alpha_2$)的最优子树。\n",
    "\n",
    "如此剪枝下去，直至得到根节点。在这一过程中，不断地增加α的值，产生新的区间。"
   ]
  },
  {
   "cell_type": "markdown",
   "metadata": {},
   "source": [
    "特别的 这里的C(t)是对训练数据的预测误差，计算方式为：结点预测错误样本数/结点样本总数 * 结点样本总数/总样本数  \n",
    "$C(T_t)$计算是只计算叶结点（不要计算路径中的根节点）"
   ]
  },
  {
   "cell_type": "markdown",
   "metadata": {},
   "source": [
    "下面剪枝的代码中，通过给定的正则化参数α进行剪枝，没有做对α的不同取值下的最优子树计算，没有做采用交叉验证法选取最优子树。"
   ]
  },
  {
   "cell_type": "markdown",
   "metadata": {},
   "source": [
    "### 回归树生成"
   ]
  },
  {
   "cell_type": "markdown",
   "metadata": {},
   "source": [
    "回归树的生产步骤和分类树一摸一样，只是选取的评价指标不同。把基尼指数替换成平方误差，剪枝时的预测误差换成平方误差，结点保存的值改为该结点样本标签的平均值。"
   ]
  },
  {
   "cell_type": "code",
   "execution_count": 1,
   "metadata": {},
   "outputs": [],
   "source": [
    "import numpy as np\n",
    "\n",
    "class TreeNode:\n",
    "    def __init__(self,feature_idx=None,feature_val=None,node_val=None,\n",
    "                 left_child=None,right_child=None):\n",
    "        self._feature_idx = feature_idx #该结点对应的划分特征索引\n",
    "        self._feature_val = feature_val #feature_val\n",
    "        self._node_val = node_val       #该结点存储的值，只有叶结点才存储类别信息，回归树存储结点的平均值，分类树存储类别出现次数最多的类别\n",
    "        self._left_child = left_child   #左子树\n",
    "        self._right_child = right_child #右子树\n",
    "        self._y = None #记录该节点对应的标签集,用于树剪枝时计算当前节点的基尼指数或者平方差\n",
    "\n",
    "\n",
    "class CART:\n",
    "    pass\n",
    "\n",
    "    def __init__(self, min_sample=2, min_gain=1e-6, max_depth=np.inf):\n",
    "        pass\n",
    "        \"\"\"\n",
    "        min_sample:\n",
    "            当数据集样本数少于min_sample时不再划分\n",
    "        min_gain:\n",
    "            如果划分后收益不能超过该值则不进行划分\n",
    "            对分类树来说基尼指数需要有足够的下降\n",
    "            对回归树来说平方误差要有足够的下降\n",
    "        max_depth:\n",
    "            树的最大高度\n",
    "        \"\"\"\n",
    "        self._root = None\n",
    "        self._min_sample = min_sample\n",
    "        self._min_gain = min_gain\n",
    "        self._max_depth = max_depth\n",
    "\n",
    "    def _clac_evaluation(self,y):\n",
    "        pass\n",
    "        \"\"\"求基尼指数或者平方差，由子类实现\"\"\"\n",
    "        return NotImplementedError()\n",
    "\n",
    "    def _calc_val(self,y):\n",
    "        pass\n",
    "        \"\"\"计算众数或着平均数,由子类实现\"\"\"\n",
    "        return NotImplementedError()\n",
    "\n",
    "    def _clac_divide_evaluation(self,y1,y2):\n",
    "        pass\n",
    "        \"\"\"计算划分后的基尼指数或者平方差\"\"\"\n",
    "        return NotImplementedError()\n",
    "\n",
    "    def _continue_divide(self,X,y,cur_depth):\n",
    "        pass\n",
    "        \"\"\"判断是否继续划分\"\"\"\n",
    "        \"\"\"\n",
    "        条件1：剩余的样本数是否少于最小样本数\n",
    "        条件2：当前的树的高度是否超过最大高度\n",
    "        条件3：当前是有只有一个分类\n",
    "        \"\"\"\n",
    "        if len(X)< self._min_sample \\\n",
    "                or cur_depth > self._max_depth \\\n",
    "                or np.unique(y).shape[0] == 1 :\n",
    "            return False\n",
    "        return True\n",
    "\n",
    "    def _build_tree(self,X,y,cur_depth=0):\n",
    "        pass\n",
    "        \"\"\" 构建树\"\"\"\n",
    "        #判断当前集合是否满足继续划分的条件\n",
    "        if self._continue_divide(X,y,cur_depth):\n",
    "            samples_n,feature_n = X.shape\n",
    "            min_evaluation = np.inf\n",
    "            min_evaluation_feature_idx = None\n",
    "            min_evaluation_feature_idx_value = None;\n",
    "            min_evaluation_D1 = []\n",
    "            min_evaluation_D2 = []\n",
    "            min_evaluation_y1 = []\n",
    "            min_evaluation_y2 = []\n",
    "\n",
    "            for feature_idx in range(feature_n): #选择一个特征的索引\n",
    "                fearure_value = np.unique(X[:,feature_idx])\n",
    "                for v in fearure_value:  #选择这个特征索引下的切分点的取值\n",
    "                    temp = X[:,feature_idx]\n",
    "                    D1_idx = np.argwhere(temp < v).ravel()  #通过该特征把数据集分成了两部分\n",
    "                    D1 = X[D1_idx]\n",
    "                    y1 = y[D1_idx]\n",
    "\n",
    "                    D2_idx = np.argwhere(temp >= v).ravel()\n",
    "                    D2 = X[D2_idx]\n",
    "                    y2 = y[D2_idx]\n",
    "\n",
    "                    if len(D1)==0 or len(D2)==0:\n",
    "                        continue\n",
    "                    Evaluation_D_A = self._clac_divide_evaluation(y1,y2) #求在特征A的条件下，集合的评价指数\n",
    "                    if Evaluation_D_A < min_evaluation:  #选择评价指数最小的特征和特征取值\n",
    "                        min_evaluation = Evaluation_D_A\n",
    "                        min_evaluation_feature_idx = feature_idx\n",
    "                        min_evaluation_feature_idx_value = v\n",
    "                        min_evaluation_D1 = D1\n",
    "                        min_evaluation_D2 = D2\n",
    "                        min_evaluation_y1 = y1\n",
    "                        min_evaluation_y2 = y2\n",
    "\n",
    "            #判断此次划分是否会有足够的收获\n",
    "            if self._clac_evaluation(y) -min_evaluation > self._min_gain:\n",
    "                #构建该节点\n",
    "                node = TreeNode(feature_idx =min_evaluation_feature_idx,feature_val= min_evaluation_feature_idx_value)\n",
    "                #递归构建左子树\n",
    "                node._left_child = self._build_tree(min_evaluation_D1,min_evaluation_y1,cur_depth=cur_depth+1)\n",
    "\n",
    "                #递归构建有子树\n",
    "                node._right_child = self._build_tree(min_evaluation_D2,min_evaluation_y2,cur_depth=cur_depth+1)\n",
    "                node._y = y\n",
    "\n",
    "                return node\n",
    "            else:\n",
    "                val = self._calc_val(y)\n",
    "                node = TreeNode(node_val= val)\n",
    "                node._y = y\n",
    "                return node\n",
    "\n",
    "        else:\n",
    "            if len(y) ==0:\n",
    "                return None\n",
    "            val = self._calc_val(y)\n",
    "            node = TreeNode(node_val= val)\n",
    "            node._y = y\n",
    "            return node\n",
    "\n",
    "\n",
    "    def fit(self,X,y):\n",
    "        self._sample_nums = X.shape[0] #记录训练样本的总数\n",
    "        self._root = self._build_tree(X,y)\n",
    "\n",
    "    def _clac_leaf_error(self,node):\n",
    "        return NotImplementedError()\n",
    "\n",
    "    def _clac_predict_error(self,node,isLeaf = False):\n",
    "        pass\n",
    "        \"\"\"计算子树的分类误差率\"\"\"\n",
    "        \"\"\"\n",
    "            node表示要计算该节点为根节点的子树的叶子数和误差率\n",
    "            isLeaf 表示改节点是否直接作为叶子节点\n",
    "            返回的第一个数是叶子节点的个数\n",
    "            返回的第二个数是该子树的误差率\n",
    "        \"\"\"\n",
    "        if isLeaf: #当前节点已经是叶节点\n",
    "            return 1,self._clac_leaf_error(node)\n",
    "        else:\n",
    "            if node !=None:\n",
    "                if node._node_val != None:\n",
    "                    return 1,self._clac_leaf_error(node)\n",
    "                left_leaves,left_error = self._clac_predict_error(node._left_child)\n",
    "                right_leaves,right_error = self._clac_predict_error(node._right_child)\n",
    "                return left_leaves+right_leaves,left_error+right_error\n",
    "            return 0,0\n",
    "\n",
    "    def prune(self,alpha = np.exp(-7)):\n",
    "        pass\n",
    "        \"\"\"对已经生成的树进行剪枝\"\"\"\n",
    "        self._excute_prune(self._root,alpha= alpha)\n",
    "        return NotImplementedError\n",
    "\n",
    "    def _excute_prune(self,node,alpha):\n",
    "        pass\n",
    "        \"\"\"执行剪枝操作\"\"\"\n",
    "        #如果分支不是叶节点，则对其进行剪枝\n",
    "        if node._left_child._node_val == None:\n",
    "            self._excute_prune(node._left_child,alpha)\n",
    "        if node._right_child._node_val == None:\n",
    "            self._excute_prune(node._right_child,alpha)\n",
    "\n",
    "        #左子树叶节点的数量,左子树的误差率\n",
    "        left_leaves,left_error = self._clac_predict_error(node._left_child,isLeaf = False)\n",
    "        #右子树叶节点的数量,右子树的误差率\n",
    "        right_leaves,right_error = self._clac_predict_error(node._right_child,isLeaf = False)\n",
    "        #以当前节点为叶节点的损失函数\n",
    "        node_leaf_error = self._clac_predict_error(node,isLeaf = True)[1] + alpha\n",
    "        #以当前节点为根节点的子树的损失函数\n",
    "        node_error = left_error +right_error + alpha*(left_leaves+right_leaves)\n",
    "        #loss_reduce 表示剪枝后整体损失函数的减少程度\n",
    "        loss_reduce = (node_error - node_leaf_error)\n",
    "\n",
    "        #print(node_leaf_error,node_error)\n",
    "\n",
    "        #如果loss_reduce大于0，则表示何把当前节点作为叶节点，损失会减少，等于0则表示不变（也应该进行剪枝，因为节点数变少）\n",
    "        if loss_reduce >= 0:\n",
    "            node._node_val = self._calc_val(node._y)\n",
    "            node._left_child = None\n",
    "            node._right_child = None\n",
    "\n",
    "\n",
    "    def predict(self,X_test):\n",
    "        pass\n",
    "        y_predoct = []\n",
    "        for i in range(len(X_test)):\n",
    "            node = self._root\n",
    "            x = X_test[i]\n",
    "            while node!=None:\n",
    "                if node._node_val != None : #非叶节点上的值为None\n",
    "                    y_predoct.append(node._node_val)\n",
    "                    break\n",
    "                elif x[node._feature_idx] >= node._feature_val:\n",
    "                    node = node._right_child\n",
    "                else:\n",
    "                    node = node._left_child\n",
    "        return y_predoct\n",
    "\n",
    "    def nodes_nums(self):\n",
    "        node = self._root;\n",
    "        self._nodes_num = 0\n",
    "        self._leaves_num = 0\n",
    "        self._preOrder(node)\n",
    "        return  self._nodes_num,self._leaves_num\n",
    "\n",
    "    def _preOrder(self,node):\n",
    "        if node is not None:\n",
    "            self._nodes_num += 1\n",
    "            if node._node_val != None:\n",
    "                self._leaves_num +=1\n",
    "            self._preOrder(node._left_child)\n",
    "            self._preOrder(node._right_child)\n",
    "\n",
    "\n",
    "class CARTClassification(CART):\n",
    "\n",
    "    def _clac_evaluation(self,y):\n",
    "        pass\n",
    "        \"\"\"求基尼指数\"\"\"\n",
    "        samples_n = len(y)\n",
    "        _,categoties = np.unique(y,return_counts=True) #现有的各个类别的数量\n",
    "        Gini = 1\n",
    "        for k in categoties:\n",
    "            Gini -= pow(k/samples_n,2)  #求各个类别对应的记录数/总数量\n",
    "        return Gini\n",
    "\n",
    "    def _calc_val(self,y):\n",
    "        pass\n",
    "        \"\"\"计算众数\"\"\"\n",
    "        counts = np.bincount(y)\n",
    "        mode = np.argmax(counts)\n",
    "        return mode\n",
    "\n",
    "    def _clac_divide_evaluation(self,y1,y2):\n",
    "        pass\n",
    "        \"\"\"计算划分后的基尼指数\"\"\"\n",
    "        return  len(y1)/(len(y1)+len(y2))*self._clac_evaluation(y1) + len(y2)/(len(y1)+len(y2))*self._clac_evaluation(y2)\n",
    "\n",
    "    def _clac_leaf_error(self,node):\n",
    "        pass\n",
    "        \"\"\"计算叶子节点的误差率\"\"\"\n",
    "        _,counts = np.unique(node._y,return_counts=True) #现有的各个类别的数量\n",
    "        if counts.shape[0] == 1:\n",
    "            return 0\n",
    "        sample_num = self._sample_nums #训练集的总的样本数\n",
    "\n",
    "        #当前样本的误差率 * 当前样本的数量和总样本数的比值\n",
    "        #简化为当前样本错误错误样本数 / 总样本的数量\n",
    "        #从1开始切片是因为 counts[0]是预测正确的样本数量\n",
    "        #print(counts.shape,counts[1:].shape)\n",
    "        error =  np.sum(counts[1:])/sample_num\n",
    "        return error\n",
    "\n",
    "    def prune(self,alpha = np.exp(-7)):\n",
    "        pass\n",
    "        \"\"\"对已经生成的树进行剪枝\"\"\"\n",
    "        self._excute_prune(self._root,alpha= alpha)\n",
    "\n",
    "\n",
    "\n",
    "\n",
    "class CARTRegression(CART):\n",
    "\n",
    "    def _clac_evaluation(self,y):\n",
    "        pass\n",
    "        \"\"\"求平方差\"\"\"\n",
    "        mean = y.mean()\n",
    "        evaluation = 0\n",
    "        for v in y:\n",
    "            evaluation += pow(v-mean,2)\n",
    "        return evaluation\n",
    "\n",
    "    def _calc_val(self,y):\n",
    "        pass\n",
    "        \"\"\"计算平均值\"\"\"\n",
    "        return y.mean()\n",
    "\n",
    "    def _clac_divide_evaluation(self,y1,y2):\n",
    "        pass\n",
    "        \"\"\"计算划分后的平方差\"\"\"\n",
    "        return  self._clac_evaluation(y1) + self._clac_evaluation(y2)\n",
    "\n",
    "    def _clac_leaf_error(self,node):\n",
    "        pass\n",
    "        \"\"\"计算叶子节点的平方差\"\"\"\n",
    "        return self._clac_evaluation(node._y)\n",
    "\n",
    "    def prune(self,alpha = np.e):\n",
    "        pass\n",
    "        \"\"\"对已经生成的树进行剪枝\"\"\"\n",
    "        self._excute_prune(self._root,alpha= alpha)\n",
    "\n"
   ]
  },
  {
   "cell_type": "markdown",
   "metadata": {},
   "source": [
    "测试分类树"
   ]
  },
  {
   "cell_type": "code",
   "execution_count": 2,
   "metadata": {},
   "outputs": [
    {
     "name": "stdout",
     "output_type": "stream",
     "text": [
      "剪枝前树的节点数量和叶节点数量： (251, 126)\n",
      "剪枝前的预测正确率： 97.0 %\n",
      "剪枝后树的节点数量和叶节点数量： (57, 29)\n",
      "剪枝后的预测正确率： 97.48 %\n"
     ]
    },
    {
     "data": {
      "image/png": "[encoded data removed]",
      "text/plain": [
       "<Figure size 432x288 with 1 Axes>"
      ]
     },
     "metadata": {
      "needs_background": "light"
     },
     "output_type": "display_data"
    }
   ],
   "source": [
    "import numpy as np\n",
    "from matplotlib import pyplot as plt\n",
    "\n",
    "from sklearn.datasets import make_blobs\n",
    "from sklearn.model_selection import train_test_split\n",
    "\n",
    "\n",
    "np.set_printoptions(suppress=True)\n",
    "x_samples,y_samples = make_blobs(centers=6,n_samples=10000)\n",
    "\n",
    "X_train, X_test, y_train, y_test = train_test_split(x_samples, y_samples)\n",
    "\n",
    "myCARTC = CARTClassification(max_depth=10,min_sample=5)\n",
    "myCARTC.fit(X_train,y_train)\n",
    "print(\"剪枝前树的节点数量和叶节点数量：\",myCARTC.nodes_nums())\n",
    "y_predict = myCARTC.predict(X_test)\n",
    "print(\"剪枝前的预测正确率：\",np.sum(y_predict == y_test)/len(y_test)*100,'%')\n",
    "myCARTC.prune(alpha = np.exp(-7))\n",
    "y_predict = myCARTC.predict(X_test)\n",
    "print(\"剪枝后树的节点数量和叶节点数量：\",myCARTC.nodes_nums())\n",
    "print(\"剪枝后的预测正确率：\",np.sum(y_predict == y_test)/len(y_test)*100,'%')\n",
    "plt.scatter(x_samples[:,0],x_samples[:,1],c=y_samples)\n",
    "plt.show()"
   ]
  },
  {
   "cell_type": "markdown",
   "metadata": {},
   "source": [
    "测试回归树"
   ]
  },
  {
   "cell_type": "code",
   "execution_count": 3,
   "metadata": {},
   "outputs": [
    {
     "name": "stdout",
     "output_type": "stream",
     "text": [
      "剪枝前树的节点数量和叶节点数量： (83, 42)\n",
      "剪枝后树的节点数量和叶节点数量： (7, 4)\n"
     ]
    },
    {
     "data": {
      "image/png": "[encoded data removed]",
      "text/plain": [
       "<Figure size 432x288 with 2 Axes>"
      ]
     },
     "metadata": {
      "needs_background": "light"
     },
     "output_type": "display_data"
    }
   ],
   "source": [
    "m=200\n",
    "X = 2 * np.random.rand(m,1) # X 是列向量\n",
    "y = 4 +3*X +np.random.randn(m,1) #Y 也是列向量\n",
    "\n",
    "myCARTR = CARTRegression(min_sample=10,max_depth=10)\n",
    "myCARTR.fit(X,y)\n",
    "print(\"剪枝前树的节点数量和叶节点数量：\",myCARTR.nodes_nums())\n",
    "#X_new = np.array([[np.min(X)],[np.max(X)]])\n",
    "X_new = np.linspace(np.min(X),np.max(X),50)[:,np.newaxis]\n",
    "y_new = myCARTR.predict(X_new)\n",
    "plt.subplot(121)\n",
    "plt.title(\"before prune\")\n",
    "plt.plot(X,y,'ob')\n",
    "plt.plot(X_new,y_new,'-g')\n",
    "myCARTR.prune(alpha= 5)\n",
    "print(\"剪枝后树的节点数量和叶节点数量：\",myCARTR.nodes_nums())\n",
    "y_new = myCARTR.predict(X_new)\n",
    "plt.subplot(122)\n",
    "plt.title(\"after prune\")\n",
    "plt.plot(X,y,'ob')\n",
    "plt.plot(X_new,y_new,'-g')\n",
    "plt.show()\n"
   ]
  },
  {
   "cell_type": "code",
   "execution_count": null,
   "metadata": {},
   "outputs": [],
   "source": []
  }
 ],
 "metadata": {
  "kernelspec": {
   "display_name": "Python 3",
   "language": "python",
   "name": "python3"
  },
  "language_info": {
   "codemirror_mode": {
    "name": "ipython",
    "version": 3
   },
   "file_extension": ".py",
   "mimetype": "text/x-python",
   "name": "python",
   "nbconvert_exporter": "python",
   "pygments_lexer": "ipython3",
   "version": "3.8.5"
  }
 },
 "nbformat": 4,
 "nbformat_minor": 4
}
