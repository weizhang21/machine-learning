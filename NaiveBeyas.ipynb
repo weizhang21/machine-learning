{
 "cells": [
  {
   "cell_type": "code",
   "execution_count": 1,
   "metadata": {},
   "outputs": [],
   "source": [
    "import numpy as np\n",
    "\n",
    "class NaiveBayes:\n",
    "    pass\n",
    "    \"\"\"朴素贝叶斯实现\"\"\"\n",
    "\n",
    "    def __init__(self):\n",
    "        pass\n",
    "\n",
    "\n",
    "    def _calc_classes_rate(self,y):\n",
    "        pass\n",
    "        \"\"\"计算各个类别的概率\"\"\"\n",
    "        n_samples = y.shape[0]\n",
    "        #返回类别，相应的数目\n",
    "        classess,c_counts = np.unique(y,return_counts=True)\n",
    "        #求类别对应的相应的概率\n",
    "        classes_rate = c_counts/n_samples\n",
    "        return classess,classes_rate\n",
    "\n",
    "\n",
    "    def fit(self,X,y):\n",
    "        pass\n",
    "        #类别，先验概率\n",
    "        classes,classes_rate =  self._calc_classes_rate(y)\n",
    "        #print(\"类别：\",classes,\"概率：\",classes_rate)\n",
    "        self.classes = classes\n",
    "        self.classes_rate = classes_rate\n",
    "        #记录各个类别对应的索引\n",
    "        c_idx = []\n",
    "        for c in classes:\n",
    "            c_idx.append(np.squeeze(np.argwhere(y == c)))\n",
    "\n",
    "        n_features = X.shape[1]\n",
    "        #记录似然概率p(X|Y=ck)\n",
    "        likelihood = dict()\n",
    "        for c,idx in zip(classes,c_idx):\n",
    "            #属于c类的样本\n",
    "            x_c = X[idx]\n",
    "            #属于c类的样本的个数\n",
    "            n_c = x_c.shape[0]\n",
    "            #记录该类别所有特征对应的概率\n",
    "            class_rate = dict()\n",
    "\n",
    "            for i in range(n_features):\n",
    "                #每个特征对应的概率\n",
    "                feature_rate = dict()\n",
    "                #返回特征取值，及出现的次数\n",
    "                features_val,features_count = np.unique(x_c[:,i],return_counts=True)\n",
    "                #求各个特征取值的概率\n",
    "                for f_val,f_count in zip(features_val,features_count):\n",
    "                   feature_rate[f_val] = f_count/n_c\n",
    "                   #print(f_val)\n",
    "                #这里的键是特征列列的索引\n",
    "                class_rate[i] = feature_rate\n",
    "            #这里的键是类别c\n",
    "            likelihood[c]= class_rate\n",
    "\n",
    "        self.likelihood = likelihood\n",
    "\n",
    "\n",
    "    def predict(self,x):\n",
    "        pass\n",
    "        #记录各个类别的得分\n",
    "        y_score = []\n",
    "        for c,c_rate in zip(self.classes,self.classes_rate):\n",
    "            #类别的先验概率\n",
    "            c_score = c_rate\n",
    "            #类别对应的似然概率\n",
    "            c_likelihood = self.likelihood[c]\n",
    "            for i,f_val in enumerate(x):\n",
    "                f_val_prob = c_likelihood[i]\n",
    "                c_score *=f_val_prob[f_val]\n",
    "            y_score.append(c_score)\n",
    "        c_idx = np.argmax(y_score)\n",
    "        return self.classes[c_idx]\n"
   ]
  },
  {
   "cell_type": "code",
   "execution_count": 2,
   "metadata": {},
   "outputs": [
    {
     "data": {
      "text/plain": [
       "-1"
      ]
     },
     "execution_count": 2,
     "metadata": {},
     "output_type": "execute_result"
    }
   ],
   "source": [
    "#统计学习方法上的例子\n",
    "X = np.array([[1,'S'],[1,'M'],[1,'M'],[1,'S'],[1,'S'],[2,'S'],[2,'M'],[2,'M'],[2,'L'],[2,'L'],[3,'L'],[3,'M'],[3,'M'],[3,'L'],[3,'L']])\n",
    "y = np.array([-1,-1,1,1,-1,-1,-1,1,1,1,1,1,1,1,-1])\n",
    "nb = NaiveBayes()\n",
    "nb.fit(X,y)\n",
    "nb.predict(np.array([2,'S']))"
   ]
  }
 ],
 "metadata": {
  "kernelspec": {
   "display_name": "Python 3",
   "language": "python",
   "name": "python3"
  },
  "language_info": {
   "codemirror_mode": {
    "name": "ipython",
    "version": 3
   },
   "file_extension": ".py",
   "mimetype": "text/x-python",
   "name": "python",
   "nbconvert_exporter": "python",
   "pygments_lexer": "ipython3",
   "version": "3.8.5"
  }
 },
 "nbformat": 4,
 "nbformat_minor": 4
}
